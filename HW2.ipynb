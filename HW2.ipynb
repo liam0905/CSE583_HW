{
 "cells": [
  {
   "cell_type": "markdown",
   "metadata": {},
   "source": [
    "# CSE 583 Homework 2 - Debugging and Exceptions"
   ]
  },
  {
   "cell_type": "markdown",
   "metadata": {},
   "source": [
    "You are writing a program that analyzes weather data. The data are structured as a CSV that has the columns \"City\", \"State\", and \"RainInches\". The user provides the file path on the command line. The program replies with the city that has the most rain. If two cities have the same amount of rain, then both should be reported.\n",
    "\n",
    "Below is incomplete and buggy code that was implemented to provide the above features. The assignment is to do the following:\n",
    "\n",
    "* Create a sample dataset structured as described above (1 point)\n",
    "* Find the bugs in the existing code (2 points)\n",
    "* Print a message if the file is not present (1 point)\n",
    "* Print a help message that describes how to use the program if no arguments are provided on the command line or the argument is \"--help\" or \"-h\" (1 point)"
   ]
  },
  {
   "cell_type": "code",
   "execution_count": 13,
   "metadata": {
    "collapsed": true
   },
   "outputs": [],
   "source": [
    "import pandas as pd\n",
    "import sys"
   ]
  },
  {
   "cell_type": "code",
   "execution_count": 164,
   "metadata": {
    "collapsed": true
   },
   "outputs": [],
   "source": [
    "df = pd.DataFrame({'State':['Washington','Virginia','Illinois','Florida','California'],'City':['Seattle','Blacksburg','Elmhurst','Miami','Sunnyvale'],'RainInches':[37,40,38,59,16]})\n",
    "df = df[['State','City','RainInches']]\n",
    "df.to_csv('hw2_data.csv')"
   ]
  },
  {
   "cell_type": "code",
   "execution_count": 165,
   "metadata": {},
   "outputs": [
    {
     "data": {
      "text/html": [
       "<div>\n",
       "<style>\n",
       "    .dataframe thead tr:only-child th {\n",
       "        text-align: right;\n",
       "    }\n",
       "\n",
       "    .dataframe thead th {\n",
       "        text-align: left;\n",
       "    }\n",
       "\n",
       "    .dataframe tbody tr th {\n",
       "        vertical-align: top;\n",
       "    }\n",
       "</style>\n",
       "<table border=\"1\" class=\"dataframe\">\n",
       "  <thead>\n",
       "    <tr style=\"text-align: right;\">\n",
       "      <th></th>\n",
       "      <th>State</th>\n",
       "      <th>City</th>\n",
       "      <th>RainInches</th>\n",
       "    </tr>\n",
       "  </thead>\n",
       "  <tbody>\n",
       "    <tr>\n",
       "      <th>0</th>\n",
       "      <td>Washington</td>\n",
       "      <td>Seattle</td>\n",
       "      <td>37</td>\n",
       "    </tr>\n",
       "    <tr>\n",
       "      <th>1</th>\n",
       "      <td>Virginia</td>\n",
       "      <td>Blacksburg</td>\n",
       "      <td>40</td>\n",
       "    </tr>\n",
       "    <tr>\n",
       "      <th>2</th>\n",
       "      <td>Illinois</td>\n",
       "      <td>Elmhurst</td>\n",
       "      <td>38</td>\n",
       "    </tr>\n",
       "    <tr>\n",
       "      <th>3</th>\n",
       "      <td>Florida</td>\n",
       "      <td>Miami</td>\n",
       "      <td>59</td>\n",
       "    </tr>\n",
       "    <tr>\n",
       "      <th>4</th>\n",
       "      <td>California</td>\n",
       "      <td>Sunnyvale</td>\n",
       "      <td>16</td>\n",
       "    </tr>\n",
       "  </tbody>\n",
       "</table>\n",
       "</div>"
      ],
      "text/plain": [
       "        State        City  RainInches\n",
       "0  Washington     Seattle          37\n",
       "1    Virginia  Blacksburg          40\n",
       "2    Illinois    Elmhurst          38\n",
       "3     Florida       Miami          59\n",
       "4  California   Sunnyvale          16"
      ]
     },
     "execution_count": 165,
     "metadata": {},
     "output_type": "execute_result"
    }
   ],
   "source": [
    "df"
   ]
  },
  {
   "cell_type": "code",
   "execution_count": 166,
   "metadata": {},
   "outputs": [
    {
     "name": "stdout",
     "output_type": "stream",
     "text": [
      "Miami has 59 inches of rain per year!\n"
     ]
    }
   ],
   "source": [
    "\"\"\"This Program Analyzes Weather Data.\"\"\"\n",
    "\n",
    "import pandas as pd\n",
    "import sys \n",
    "\n",
    "def analyze(df):\n",
    "\n",
    "    rainy_cities = []\n",
    "    rain_max = df.RainInches.max()\n",
    "    for index, row in df.iterrows():\n",
    "        if row['RainInches'] == rain_max:\n",
    "            rainy_cities.append(row['City'])\n",
    "    if len(rainy_cities) == 5:\n",
    "        return \"%s, %s, %s, %s,and %s have %d inches of rain per year!\" % (rainy_cities[0],rainy_cities[1], rainy_cities[2],rainy_cities[3],rainy_cities[4],rain_max)\n",
    "    if len(rainy_cities) == 4:\n",
    "        return \"%s, %s, %s, and %s have %d inches of rain per year!\" % (rainy_cities[0],rainy_cities[1], rainy_cities[2],rainy_cities[3],rain_max)\n",
    "    if len(rainy_cities) == 3:\n",
    "        return \"%s, %s, and %s have %d inches of rain per year!\" % (rainy_cities[0],rainy_cities[1], rainy_cities[2] ,rain_max)\n",
    "    elif len(rainy_cities) == 2:\n",
    "        return \"%s and %s have %d inches of rain per year!\" % (rainy_cities[0],rainy_cities[1] ,rain_max)\n",
    "    elif len(rainy_cities) ==1:\n",
    "        return \"%s has %d inches of rain per year!\" % (rainy_cities[0], rain_max)      \n",
    "            \n",
    "\n",
    "if __name__ == \"__main__\":\n",
    "\n",
    "    pd.read_csv('hw2_data.csv')\n",
    " #df = pd.read_csv(sys.argv[1])\n",
    "    print(analyze(df))"
   ]
  },
  {
   "cell_type": "markdown",
   "metadata": {
    "collapsed": true
   },
   "source": [
    "Question: 1. Do we have to submit the jupyter file that creates the .csv file?\n",
    "          2. Is my method of using the bash correct?"
   ]
  }
 ],
 "metadata": {
  "kernelspec": {
   "display_name": "Python 3",
   "language": "python",
   "name": "python3"
  },
  "language_info": {
   "codemirror_mode": {
    "name": "ipython",
    "version": 3
   },
   "file_extension": ".py",
   "mimetype": "text/x-python",
   "name": "python",
   "nbconvert_exporter": "python",
   "pygments_lexer": "ipython3",
   "version": "3.6.2"
  }
 },
 "nbformat": 4,
 "nbformat_minor": 2
}
